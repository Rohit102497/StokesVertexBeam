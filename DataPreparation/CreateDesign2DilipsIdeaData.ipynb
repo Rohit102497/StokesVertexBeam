{
 "cells": [
  {
   "cell_type": "code",
   "execution_count": 27,
   "metadata": {},
   "outputs": [],
   "source": [
    "import glob\n",
    "import imageio.v2 as imageio\n",
    "import numpy as np\n",
    "import random\n",
    "import matplotlib.pyplot as plt\n",
    "import pandas as pd\n",
    "import os\n",
    "import shutil"
   ]
  },
  {
   "cell_type": "code",
   "execution_count": 28,
   "metadata": {},
   "outputs": [],
   "source": [
    "# Get 10 images of a particular class for experimental and simulated data\n",
    "root_dir = \"/StokesVertexBeam/Data/Transformed303x303/\"\n",
    "class_dir = [\"Class1/\", \"Class2/\", \"Class3/\",\n",
    "                \"Class4/\", \"Class5/\", \"Class6/\",\n",
    "                \"Class7/\", \"Class8/\", \"Class9/\",\n",
    "                \"Class10/\", \"Class11/\", \"Class12/\",\n",
    "                \"Class13/\", \"Class14/\", \"Class15/\"]\n",
    "file_dir = '*.jpg'\n",
    "\n",
    "def func_filename_list(folder_name, which_class = 0):\n",
    "    folder_name = root_dir+folder_name+class_dir[which_class]+file_dir\n",
    "    count = 0\n",
    "    filename_list = []\n",
    "    for filename in glob.glob(folder_name):\n",
    "        filename_list.append(filename)\n",
    "\n",
    "    return filename_list"
   ]
  },
  {
   "cell_type": "code",
   "execution_count": 29,
   "metadata": {},
   "outputs": [],
   "source": [
    "def create_data_class_wise(which_class):\n",
    "\n",
    "    dict_class = func_filename_list(\"Experimental/\", which_class)\n",
    "    print(len(dict_class))\n",
    "\n",
    "    path_to_store = r\"/StokesVertexBeam/Data/DesignData/Design2_DilipIdea/experimental/\"\n",
    "    fold_list = [\"1stFold\", \"2ndFold\", \"3rdFold\", \"4thFold\", \"5thFold\", \"6thFold\", \"7thFold\", \"8thFold\", \"9thFold\", \"10thFold\"]\n",
    "\n",
    "    dict_class.sort()\n",
    "    dict_class.sort(key=len)\n",
    "\n",
    "    for i in range(10):\n",
    "        fold = fold_list[i]\n",
    "\n",
    "        val_images = dict_class[int(len(dict_class)*.1*i):int(len(dict_class)*.1*(i+1))]\n",
    "        train_images = dict_class[:int(len(dict_class)*.1*i)] + dict_class[int(len(dict_class)*.1*(i+1)):]\n",
    "        \n",
    "\n",
    "\n",
    "        # Train_Images\n",
    "        for image in train_images:\n",
    "            new_path = path_to_store + fold + \"/\" + \"train/\" + \"Class\" + str(which_class+1) + \"/\" + image.split(\"/\")[-1]\n",
    "            shutil.copy(image, new_path)\n",
    "\n",
    "        # Val_Images\n",
    "        for image in val_images:\n",
    "            new_path = path_to_store + fold + \"/\" + \"val/\" + \"Class\" + str(which_class+1) + \"/\" + image.split(\"/\")[-1]\n",
    "            shutil.copy(image, new_path)"
   ]
  },
  {
   "cell_type": "code",
   "execution_count": 30,
   "metadata": {},
   "outputs": [
    {
     "name": "stdout",
     "output_type": "stream",
     "text": [
      "20\n",
      "20\n",
      "20\n",
      "20\n",
      "20\n",
      "20\n",
      "20\n",
      "20\n",
      "20\n",
      "20\n",
      "20\n",
      "20\n",
      "20\n",
      "20\n",
      "20\n"
     ]
    }
   ],
   "source": [
    "# for i in range(15):\n",
    "#     create_data_class_wise(i)"
   ]
  },
  {
   "cell_type": "code",
   "execution_count": 35,
   "metadata": {},
   "outputs": [
    {
     "name": "stdout",
     "output_type": "stream",
     "text": [
      "30\n",
      "30\n",
      "30\n",
      "30\n",
      "30\n",
      "30\n",
      "30\n",
      "30\n",
      "30\n",
      "30\n"
     ]
    }
   ],
   "source": [
    "# fold_list = [\"1stFold\", \"2ndFold\", \"3rdFold\", \"4thFold\", \"5thFold\", \"6thFold\", \"7thFold\", \"8thFold\", \"9thFold\", \"10thFold\"]\n",
    "# root_dir = \"/StokesVertexBeam/Data/DesignData/Design2_DilipIdea/experimental/\"\n",
    "# file_dir = '*.jpg'\n",
    "# class_dir = [\"Class1/\", \"Class2/\", \"Class3/\",\n",
    "#                 \"Class4/\", \"Class5/\", \"Class6/\",\n",
    "#                 \"Class7/\", \"Class8/\", \"Class9/\",\n",
    "#                 \"Class10/\", \"Class11/\", \"Class12/\",\n",
    "#                 \"Class13/\", \"Class14/\", \"Class15/\"]\n",
    "\n",
    "\n",
    "# for i in range(10):\n",
    "#     fold = fold_list[i]\n",
    "    \n",
    "#     # train\n",
    "#     filename_list = []\n",
    "#     for j in range(15):\n",
    "#         folder_name = root_dir+fold+\"/val/\"+class_dir[j]+file_dir\n",
    "#         for filename in glob.glob(folder_name):\n",
    "#             filename_list.append(filename)\n",
    "#     print(len(filename_list))"
   ]
  }
 ],
 "metadata": {
  "kernelspec": {
   "display_name": "work_env",
   "language": "python",
   "name": "python3"
  },
  "language_info": {
   "codemirror_mode": {
    "name": "ipython",
    "version": 3
   },
   "file_extension": ".py",
   "mimetype": "text/x-python",
   "name": "python",
   "nbconvert_exporter": "python",
   "pygments_lexer": "ipython3",
   "version": "3.10.6"
  },
  "orig_nbformat": 4,
  "vscode": {
   "interpreter": {
    "hash": "212fe4dcc2058c2b360a90727b41e33f0c7d5ebe4a945874be24d9abef50c1d5"
   }
  }
 },
 "nbformat": 4,
 "nbformat_minor": 2
}
