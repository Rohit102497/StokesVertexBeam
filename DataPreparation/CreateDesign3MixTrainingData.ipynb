{
 "cells": [
  {
   "cell_type": "code",
   "execution_count": 1,
   "metadata": {},
   "outputs": [],
   "source": [
    "import numpy as np\n",
    "import matplotlib.pyplot as plt\n",
    "from PIL import Image"
   ]
  },
  {
   "cell_type": "code",
   "execution_count": 2,
   "metadata": {},
   "outputs": [],
   "source": [
    "# Loading .h5 file\n",
    "\n",
    "import h5py\n",
    "from pathlib import Path\n",
    "hdf5_dir = Path(\"/StokesVertexBeam/Data/hdf5/\")\n",
    "hdf5_dir.mkdir(parents=True, exist_ok=True)\n",
    "\n",
    "def read_many_hdf5(num_images, which_type = \"simulated\"):\n",
    "    \"\"\" Reads image from HDF5.\n",
    "        Parameters:\n",
    "        ---------------\n",
    "        num_images   number of images to read\n",
    "\n",
    "        Returns:\n",
    "        ----------\n",
    "        images      images array, (N, 32, 32, 3) to be stored\n",
    "        labels      associated meta data, int label (N, 1)\n",
    "    \"\"\"\n",
    "    images, labels = [], []\n",
    "\n",
    "    # Open the HDF5 file\n",
    "    if which_type == \"simulated\":\n",
    "        # file = h5py.File(hdf5_dir / f\"{num_images}_many.h5\", \"r+\")\n",
    "        file = h5py.File(hdf5_dir / f\"{num_images}_303_303_many.h5\", \"r+\")\n",
    "    else:\n",
    "        # file = h5py.File(hdf5_dir / f\"experimental_{num_images}_many.h5\", \"r+\")\n",
    "        file = h5py.File(hdf5_dir / f\"experimental_{num_images}_303_303_many.h5\", \"r+\")    \n",
    "\n",
    "    images = np.array(file[\"/images\"]).astype(\"uint8\")\n",
    "    labels = np.array(file[\"/meta\"]).astype(\"uint8\")\n",
    "\n",
    "    return images, labels\n",
    "\n",
    "def store_many_hdf5(images, labels):\n",
    "    \"\"\" Stores an array of images to HDF5.\n",
    "        Parameters:\n",
    "        ---------------\n",
    "        images       images array, (N, 32, 32, 3) to be stored\n",
    "        labels       labels array, (N, 1) to be stored\n",
    "    \"\"\"\n",
    "    num_images = len(images)\n",
    "\n",
    "    # Create a new HDF5 file\n",
    "    file = h5py.File(hdf5_dir / f\"{num_images}_303_303many.h5\", \"w\")\n",
    "\n",
    "    # Create a dataset in the file\n",
    "    dataset = file.create_dataset(\n",
    "        \"images\", np.shape(images), h5py.h5t.STD_U8BE, data=images\n",
    "    )\n",
    "    meta_set = file.create_dataset(\n",
    "        \"meta\", np.shape(labels), h5py.h5t.STD_U8BE, data=labels\n",
    "    )\n",
    "    file.close()"
   ]
  },
  {
   "cell_type": "code",
   "execution_count": 3,
   "metadata": {},
   "outputs": [
    {
     "data": {
      "text/plain": [
       "((300, 303, 303, 3), (300, 1), (15000, 303, 303, 3), (15000, 1))"
      ]
     },
     "execution_count": 3,
     "metadata": {},
     "output_type": "execute_result"
    }
   ],
   "source": [
    "img_sim, labels_sim = read_many_hdf5(15000, \"simulated\")\n",
    "img_exp, labels_exp = read_many_hdf5(300, \"experimental\")\n",
    "img_exp.shape, labels_exp.shape, img_sim.shape, labels_sim.shape"
   ]
  },
  {
   "cell_type": "code",
   "execution_count": 4,
   "metadata": {},
   "outputs": [],
   "source": [
    "class_dir = [\"Class1\", \"Class2\", \"Class3\",\n",
    "            \"Class4\", \"Class5\", \"Class6\",\n",
    "            \"Class7\", \"Class8\", \"Class9\",\n",
    "            \"Class10\", \"Class11\", \"Class12\",\n",
    "            \"Class13\", \"Class14\", \"Class15\"]\n",
    "\n",
    "sim_data_dict = dict()\n",
    "exp_data_dict = dict()\n",
    "\n",
    "sim_labels_dict = dict()\n",
    "exp_labels_dict = dict()\n",
    "\n",
    "for i in range(15):\n",
    "    sim_data_dict[class_dir[i]] = img_sim[i*1000:(i+1)*1000]\n",
    "    # sim_labels_dict[class_dir[i]] = labels_sim[i*1000:(i+1)*1000]\n",
    "\n",
    "    exp_data_dict[class_dir[i]] = img_exp[i*20:(i+1)*20]\n",
    "    # exp_labels_dict[class_dir[i]] = labels_exp[i*20:(i+1)*20]"
   ]
  },
  {
   "cell_type": "code",
   "execution_count": 5,
   "metadata": {},
   "outputs": [],
   "source": [
    "# # Data split in 3 parts - Train, Val, Test : 897, 3, 100\n",
    "import random\n",
    "\n",
    "\n",
    "\n",
    "No_of_repition_exp_train_image = 18\n",
    "data_dir = \"/StokesVertexBeam/Data/DesignData/Design3_MixTrain/\"\n",
    "\n",
    "for i in range(len(class_dir)):\n",
    "\n",
    "    train_img = []\n",
    "    train_label = []\n",
    "    val_img = []\n",
    "    val_label = []\n",
    "    test_sim_img = []\n",
    "    test_sim_label = []\n",
    "    test_exp_img = []\n",
    "    test_exp_label = []\n",
    "\n",
    "    train_sample_sim = random.sample(list(range(0, 1000)), 897)\n",
    "    train_sample_exp = random.sample(list(range(0, 20)), 7)\n",
    "\n",
    "    left_sample_sim = list(set(list(range(0, 1000))) - set(train_sample_sim))\n",
    "    left_sample_exp = list(set(list(range(0, 20))) - set(train_sample_exp))\n",
    "\n",
    "    val_sample_sim = random.sample(left_sample_sim, 3)\n",
    "    val_sample_exp = random.sample(left_sample_exp, 3)\n",
    "\n",
    "\n",
    "    test_sample_sim = list(set(left_sample_sim) - set(val_sample_sim))\n",
    "    test_sample_exp = list(set(left_sample_exp) - set(val_sample_exp))\n",
    "\n",
    "    train_sample_exp = train_sample_exp*No_of_repition_exp_train_image\n",
    "\n",
    "    train_img = sim_data_dict[class_dir[i]][train_sample_sim]\n",
    "    train_img = np.concatenate((train_img, exp_data_dict[class_dir[i]][train_sample_exp]), 0)\n",
    "    np.random.shuffle(train_img)\n",
    "\n",
    "    val_img = sim_data_dict[class_dir[i]][val_sample_sim]\n",
    "    val_img = np.concatenate((val_img, exp_data_dict[class_dir[i]][val_sample_exp]), 0)\n",
    "    np.random.shuffle(val_img)\n",
    "\n",
    "    test_sim_img = sim_data_dict[class_dir[i]][test_sample_sim]\n",
    "\n",
    "    test_exp_img = exp_data_dict[class_dir[i]][test_sample_exp]\n",
    "\n",
    "    for j in range(train_img.shape[0]):\n",
    "        im = Image.fromarray(train_img[j])\n",
    "        image_path = data_dir + \"train/\" + class_dir[i] + \"/\" + str(j) + \".jpg\"\n",
    "        im.save(image_path)\n",
    "\n",
    "    for j in range(val_img.shape[0]):\n",
    "        im = Image.fromarray(val_img[j])\n",
    "        image_path = data_dir + \"val/\" + class_dir[i] + \"/\" + str(j) + \".jpg\"\n",
    "        im.save(image_path)\n",
    "\n",
    "    for j in range(test_sim_img.shape[0]):\n",
    "        im = Image.fromarray(test_sim_img[j])\n",
    "        image_path = data_dir + \"test_sim/\" + class_dir[i] + \"/\" + str(j) + \".jpg\"\n",
    "        im.save(image_path)\n",
    "\n",
    "    for j in range(test_exp_img.shape[0]):\n",
    "        im = Image.fromarray(test_exp_img[j])\n",
    "        image_path = data_dir + \"test_exp/\" + class_dir[i] + \"/\" + str(j) + \".jpg\"\n",
    "        im.save(image_path)"
   ]
  }
 ],
 "metadata": {
  "kernelspec": {
   "display_name": "work_env",
   "language": "python",
   "name": "python3"
  },
  "language_info": {
   "codemirror_mode": {
    "name": "ipython",
    "version": 3
   },
   "file_extension": ".py",
   "mimetype": "text/x-python",
   "name": "python",
   "nbconvert_exporter": "python",
   "pygments_lexer": "ipython3",
   "version": "3.10.6"
  },
  "orig_nbformat": 4,
  "vscode": {
   "interpreter": {
    "hash": "212fe4dcc2058c2b360a90727b41e33f0c7d5ebe4a945874be24d9abef50c1d5"
   }
  }
 },
 "nbformat": 4,
 "nbformat_minor": 2
}
